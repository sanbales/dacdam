{
 "cells": [
  {
   "cell_type": "markdown",
   "metadata": {},
   "source": [
    "#Import Required Libraries"
   ]
  },
  {
   "cell_type": "code",
   "execution_count": 1,
   "metadata": {
    "collapsed": false
   },
   "outputs": [],
   "source": [
    "import logging\n",
    "import simpy\n",
    "from numpy import random\n",
    "\n",
    "from dacdam.network import Network, Router, Server, Subnet, Sensor\n",
    "from dacdam.admin import NetworkAdministrator\n",
    "from dacdam.software import Vulnerability, VulnerabilityManager"
   ]
  },
  {
   "cell_type": "markdown",
   "metadata": {},
   "source": [
    "#Setup Execution Process"
   ]
  },
  {
   "cell_type": "code",
   "execution_count": 2,
   "metadata": {
    "collapsed": false,
    "scrolled": false
   },
   "outputs": [],
   "source": [
    "random.seed(1234567890)\n",
    "\n",
    "NUM_VULNERABILITIES = 400                  # initial number of vulnerabilities\n",
    "\n",
    "NUM_NETWORKS = 2\n",
    "NUM_SENSORS = 15\n",
    "NUM_SERVERS = 12\n",
    "NUM_SUBNETS = 5\n",
    "NUM_ROUTERS = 10\n",
    "\n",
    "YEARS_TO_SIMULATE = 5\n",
    "\n",
    "env = simpy.Environment()\n",
    "\n",
    "vulnerability_mgr = VulnerabilityManager(env=env, num_vulnerabilities=1000)\n",
    "\n",
    "admins = []\n",
    "for j in range(NUM_NETWORKS):\n",
    "    network_items = [Router(env=env, name=\"Router_%04d\" % (j*NUM_ROUTERS+i+1)) for i in range(NUM_ROUTERS)] + \\\n",
    "                    [Server(env=env, name=\"Server_%04d\" % (j*NUM_SERVERS+i+1)) for i in range(NUM_SERVERS)] + \\\n",
    "                    [Subnet(env=env, name=\"Subnet_%04d\" % (j*NUM_SUBNETS+i+1)) for i in range(NUM_SUBNETS)] + \\\n",
    "                    [Sensor(env=env, name=\"Sensor_%04d\" % (j*NUM_SENSORS+i+1)) for i in range(NUM_SENSORS)]\n",
    "\n",
    "    network_admin = NetworkAdministrator(env=env,\n",
    "                                         name=\"Admin_%02d\" % (j+1),\n",
    "                                         patches=vulnerability_mgr.patches,\n",
    "                                         vulnerabilities=vulnerability_mgr.vulnerabilities,\n",
    "                                         network_items=network_items)\n",
    "\n",
    "    for vulnerability in vulnerability_mgr.vulnerabilities.items:\n",
    "        env.process(network_admin.add_vulnerability(vulnerability))\n",
    "    \n",
    "    admins.append(network_admin)"
   ]
  },
  {
   "cell_type": "markdown",
   "metadata": {},
   "source": [
    "#Run and Profile the Simulation"
   ]
  },
  {
   "cell_type": "code",
   "execution_count": 3,
   "metadata": {
    "collapsed": false
   },
   "outputs": [
    {
     "name": "stdout",
     "output_type": "stream",
     "text": [
      " "
     ]
    }
   ],
   "source": [
    "%prun env.run(until=YEARS_TO_SIMULATE*365.25)"
   ]
  }
 ],
 "metadata": {
  "kernelspec": {
   "display_name": "Python 2",
   "language": "python",
   "name": "python2"
  },
  "language_info": {
   "codemirror_mode": {
    "name": "ipython",
    "version": 2
   },
   "file_extension": ".py",
   "mimetype": "text/x-python",
   "name": "python",
   "nbconvert_exporter": "python",
   "pygments_lexer": "ipython2",
   "version": "2.7.8"
  }
 },
 "nbformat": 4,
 "nbformat_minor": 0
}
